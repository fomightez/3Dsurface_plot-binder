{
 "cells": [
  {
   "cell_type": "markdown",
   "id": "3daeb9cd-5d82-4a44-b7d2-2b9981464c6f",
   "metadata": {},
   "source": [
    "# k3d \n",
    "\n",
    "[Good overview of k3d](https://opendreamkit.org/2018/10/28/3d/).\n",
    "\n",
    "So far this has only shown interactive plots in JupyterLab. I'm wondering if I install it during a build if it will work in classic notebook interface.\n",
    "\n"
   ]
  },
  {
   "cell_type": "markdown",
   "id": "06c4cc9d-272d-41cc-9fc2-cd162091694b",
   "metadata": {},
   "source": [
    "### Example\n",
    "\n",
    "from [3D INTERACTIVE DATA VISUALISATION WITH K3D-JUPYTER](https://opendreamkit.org/2018/10/28/3d/)"
   ]
  },
  {
   "cell_type": "code",
   "execution_count": 1,
   "id": "b7d4eff1-c408-4604-8102-d7a26db57268",
   "metadata": {},
   "outputs": [
    {
     "data": {
      "application/vnd.jupyter.widget-view+json": {
       "model_id": "873701c99ef14f72baa2b54e2e83cb92",
       "version_major": 2,
       "version_minor": 0
      },
      "text/plain": [
       "Output()"
      ]
     },
     "metadata": {},
     "output_type": "display_data"
    }
   ],
   "source": [
    "import k3d\n",
    "import numpy as np\n",
    "\n",
    "Nx, Ny  = 34, 33\n",
    "xmin, xmax = -3, 4\n",
    "ymin, ymax = -0, 3\n",
    "\n",
    "x = np.linspace(xmin, xmax, Nx)\n",
    "y = np.linspace(ymin, ymax, Ny)\n",
    "x, y = np.meshgrid(x, y)\n",
    "f = np.sin(x**2 + y**2)\n",
    "\n",
    "plot = k3d.plot()\n",
    "plt_surface = k3d.surface(f.astype(np.float32), bounds=[xmin,xmax,ymin,ymax])\n",
    "plot += plt_surface\n",
    "plot.display()"
   ]
  },
  {
   "cell_type": "markdown",
   "id": "71c6ddc9-284e-4059-bcbb-3d13c9cb3634",
   "metadata": {},
   "source": [
    "## Additional example from documentation\n",
    "\n",
    "Demonstrating using frontend (client side) for doing computations. \n",
    "From [Implicit plot](https://k3d-jupyter.org/basic_functionality/Implicit_plot.html)\n",
    "\n",
    ">\"Marching cubes is an example of using frontend (client side) for doing computations. In this case a function of three variables is sampled on 3d equidistant grid and send to an k3d.marching_cubes object which will do the visualization.\n"
   ]
  },
  {
   "cell_type": "code",
   "execution_count": null,
   "id": "758713d0-7888-4779-bbdc-812f3e39cd5a",
   "metadata": {},
   "outputs": [],
   "source": [
    "import k3d\n",
    "import numpy as np\n",
    "from numpy import sin,cos,pi\n",
    "\n",
    "plot = k3d.plot()\n",
    "\n",
    "T = 1.6\n",
    "r = 4.77\n",
    "zmin, zmax = -r, r\n",
    "xmin, xmax = -r, r\n",
    "ymin, ymax = -r, r\n",
    "Nx, Ny, Nz = 37, 37, 37\n",
    "\n",
    "x = np.linspace(xmin, xmax, Nx, dtype=np.float32)\n",
    "y = np.linspace(ymin, ymax, Ny, dtype=np.float32)\n",
    "z = np.linspace(zmin, zmax, Nz, dtype=np.float32)\n",
    "x, y, z = np.meshgrid(x, y, z, indexing='ij')\n",
    "p = 2 - (cos(x + T * y) + cos(x - T * y) + cos(y + T * z) +\n",
    "         cos(y - T * z) + cos(z - T * x) + cos(z + T * x))\n",
    "plt_iso = k3d.marching_cubes(p, compression_level=9, xmin=xmin, xmax=xmax,\n",
    "                             ymin=ymin, ymax=ymax,\n",
    "                             zmin=zmin, zmax=zmax, level=0.0,\n",
    "                             flat_shading=False)\n",
    "plot += plt_iso\n",
    "plot += plt_iso\n",
    "plot.display()"
   ]
  },
  {
   "cell_type": "markdown",
   "id": "93bf2bbf-791c-4b9e-9d49-d57c74a5cc35",
   "metadata": {},
   "source": [
    "### Another example of marching cubes\n",
    "\n",
    "This was to answer a a stackoverflow question where OP wished to plot surface from solution to `'x^3 + y^3 + z^3 - c = 0` and [a reply by Davide_sd](https://stackoverflow.com/a/72046527/8508004) said \"easiest way that I know of to visualize 3D implicit surfaces is K3D-Jupyter's Marching Cube algorithm.\""
   ]
  },
  {
   "cell_type": "code",
   "execution_count": 8,
   "id": "a1fe5dfd",
   "metadata": {
    "tags": []
   },
   "outputs": [
    {
     "data": {
      "application/vnd.jupyter.widget-view+json": {
       "model_id": "6578bb2f07d64f38888b3187d339b5f4",
       "version_major": 2,
       "version_minor": 0
      },
      "text/plain": [
       "Output()"
      ]
     },
     "metadata": {},
     "output_type": "display_data"
    }
   ],
   "source": [
    "# based on https://stackoverflow.com/a/72046527/8508004\n",
    "import k3d\n",
    "import numpy as np\n",
    "\n",
    "plot = k3d.plot()\n",
    "\n",
    "r = 5\n",
    "zmin, zmax = -r, r\n",
    "xmin, xmax = -r, r\n",
    "ymin, ymax = -r, r\n",
    "N = 100\n",
    "Nx, Ny, Nz = N, N, N\n",
    "\n",
    "x = np.linspace(xmin, xmax, Nx, dtype=np.float32)\n",
    "y = np.linspace(ymin, ymax, Ny, dtype=np.float32)\n",
    "z = np.linspace(zmin, zmax, Nz, dtype=np.float32)\n",
    "x, y, z = np.meshgrid(x, y, z, indexing='ij')\n",
    "\n",
    "p = x**3 + y**3 + z**3 - 2\n",
    "plt_iso = k3d.marching_cubes(\n",
    "    p,\n",
    "    level=0.0, compression_level=9,\n",
    "    xmin=xmin, xmax=xmax,\n",
    "    ymin=ymin, ymax=ymax,\n",
    "    zmin=zmin, zmax=zmax,\n",
    "    flat_shading=False)\n",
    "plot += plt_iso\n",
    "plot.display()"
   ]
  },
  {
   "cell_type": "markdown",
   "id": "91edf07e-5e57-46ce-b8e6-966fffbfd8de",
   "metadata": {},
   "source": [
    "----------------\n",
    "\n",
    "-----\n",
    "\n",
    "These k3d plots will not remain interactive when the notebook is saved and viewd in nbviewer static views, unlike plotly plots. However, k3d does offer saving snapshots as HTML that can be embedded in HTML and remain interactive without a kernel, see [here](https://k3d-jupyter.org/basic_plotting.html#screenshots-and-snapshots).\n",
    "\n",
    "The 'snapshot HTML' can be obtained from the plot widget by selecting the 'K3D panel' menu in the upper right side of the plot area and selecing 'Controls' > 'Snapshot HTML'\n",
    "\n",
    "Alterntively, the HTML code can be saved prgrammatically with:\n",
    "\n",
    "```python\n",
    "s = plot.get_snapshot()\n",
    "with open('./points.html','w') as fp:\n",
    "    fp.write(s)\n",
    "```\n",
    "\n",
    "To demonstrate with current plot after running one of the cells above, try this:"
   ]
  },
  {
   "cell_type": "code",
   "execution_count": 11,
   "id": "24b31439-15a1-48ed-80c6-10ead6cbde9c",
   "metadata": {},
   "outputs": [],
   "source": [
    "s = plot.get_snapshot()\n",
    "with open('./points.html','w') as fp:\n",
    "    fp.write(s)"
   ]
  },
  {
   "cell_type": "code",
   "execution_count": null,
   "id": "2b09dc73-7ebd-4334-bcf5-529580d889ba",
   "metadata": {},
   "outputs": [],
   "source": [
    "That HTML produced can be viewed in an iframe in the notebook, like so:"
   ]
  },
  {
   "cell_type": "code",
   "execution_count": 20,
   "id": "77aa96d2-4f4a-4b4d-b2d0-908bfcfcb52a",
   "metadata": {},
   "outputs": [
    {
     "data": {
      "text/html": [
       "\n",
       "        <iframe\n",
       "            width=\"800\"\n",
       "            height=\"600\"\n",
       "            src=\"points.html\"\n",
       "            frameborder=\"0\"\n",
       "            allowfullscreen\n",
       "            \n",
       "        ></iframe>\n",
       "        "
      ],
      "text/plain": [
       "<IPython.lib.display.IFrame at 0x7f38d231b3d0>"
      ]
     },
     "metadata": {},
     "output_type": "display_data"
    }
   ],
   "source": [
    "from IPython.display import display, IFrame\n",
    "display(IFrame(src='points.html',width=800, height=600))"
   ]
  },
  {
   "cell_type": "markdown",
   "id": "61a4272b-85b3-4b04-8334-6274a573bac5",
   "metadata": {},
   "source": [
    "Because things were working earlier to much the same, you can convince yourself more that HTML produced is the source & remains interactive by following these steps.\n",
    "\n",
    "In JupyerLab, one can view the plot in interactive HTML. Follow these following steps:\n",
    "\n",
    "- Double-click on the `points.html` listed in the file navigation pane on the left.\n",
    "- In the window that opens, **click 'Trust HTML' in the upper left**.\n",
    "- After pressing 'Trust', the view will reload and the plot should be visible and interactive.\n",
    "\n",
    "To verify it is indeed HTML being viewed, in JuputerLab you can right-click on the `points.html` and choose '`Open With`' > '`Editor`'."
   ]
  },
  {
   "cell_type": "markdown",
   "id": "bf1a3bcf-24e1-4c81-8b8f-9c88f775e8ff",
   "metadata": {},
   "source": [
    "-------\n",
    "\n",
    "Enjoy!"
   ]
  },
  {
   "cell_type": "code",
   "execution_count": 13,
   "id": "30d328e4-d09f-43cf-b3aa-4a57c537bba7",
   "metadata": {
    "tags": []
   },
   "outputs": [
    {
     "name": "stdout",
     "output_type": "stream",
     "text": [
      ".\n",
      ".\n"
     ]
    },
    {
     "ename": "KeyboardInterrupt",
     "evalue": "",
     "output_type": "error",
     "traceback": [
      "\u001b[0;31m---------------------------------------------------------------------------\u001b[0m",
      "\u001b[0;31mKeyboardInterrupt\u001b[0m                         Traceback (most recent call last)",
      "\u001b[0;32m/tmp/ipykernel_198/1894498626.py\u001b[0m in \u001b[0;36m<module>\u001b[0;34m\u001b[0m\n\u001b[1;32m      7\u001b[0m \u001b[0;34m\u001b[0m\u001b[0m\n\u001b[1;32m      8\u001b[0m \u001b[0;32mwhile\u001b[0m \u001b[0;32mTrue\u001b[0m\u001b[0;34m:\u001b[0m\u001b[0;34m\u001b[0m\u001b[0;34m\u001b[0m\u001b[0m\n\u001b[0;32m----> 9\u001b[0;31m     \u001b[0mexecuteSomething\u001b[0m\u001b[0;34m(\u001b[0m\u001b[0;34m)\u001b[0m\u001b[0;34m\u001b[0m\u001b[0;34m\u001b[0m\u001b[0m\n\u001b[0m",
      "\u001b[0;32m/tmp/ipykernel_198/1894498626.py\u001b[0m in \u001b[0;36mexecuteSomething\u001b[0;34m()\u001b[0m\n\u001b[1;32m      4\u001b[0m     \u001b[0;31m#code here\u001b[0m\u001b[0;34m\u001b[0m\u001b[0;34m\u001b[0m\u001b[0;34m\u001b[0m\u001b[0m\n\u001b[1;32m      5\u001b[0m     \u001b[0mprint\u001b[0m \u001b[0;34m(\u001b[0m\u001b[0;34m'.'\u001b[0m\u001b[0;34m)\u001b[0m\u001b[0;34m\u001b[0m\u001b[0;34m\u001b[0m\u001b[0m\n\u001b[0;32m----> 6\u001b[0;31m     \u001b[0mtime\u001b[0m\u001b[0;34m.\u001b[0m\u001b[0msleep\u001b[0m\u001b[0;34m(\u001b[0m\u001b[0;36m480\u001b[0m\u001b[0;34m)\u001b[0m \u001b[0;31m#60 seconds times 8 minutes\u001b[0m\u001b[0;34m\u001b[0m\u001b[0;34m\u001b[0m\u001b[0m\n\u001b[0m\u001b[1;32m      7\u001b[0m \u001b[0;34m\u001b[0m\u001b[0m\n\u001b[1;32m      8\u001b[0m \u001b[0;32mwhile\u001b[0m \u001b[0;32mTrue\u001b[0m\u001b[0;34m:\u001b[0m\u001b[0;34m\u001b[0m\u001b[0;34m\u001b[0m\u001b[0m\n",
      "\u001b[0;31mKeyboardInterrupt\u001b[0m: "
     ]
    }
   ],
   "source": [
    "import time\n",
    "\n",
    "def executeSomething():\n",
    "    #code here\n",
    "    print ('.')\n",
    "    time.sleep(480) #60 seconds times 8 minutes\n",
    "\n",
    "while True:\n",
    "    executeSomething()"
   ]
  },
  {
   "cell_type": "code",
   "execution_count": null,
   "id": "d3b23c48-2bbb-49e0-b7a4-ce788de36bb8",
   "metadata": {},
   "outputs": [],
   "source": []
  }
 ],
 "metadata": {
  "kernelspec": {
   "display_name": "Python 3 (ipykernel)",
   "language": "python",
   "name": "python3"
  },
  "language_info": {
   "codemirror_mode": {
    "name": "ipython",
    "version": 3
   },
   "file_extension": ".py",
   "mimetype": "text/x-python",
   "name": "python",
   "nbconvert_exporter": "python",
   "pygments_lexer": "ipython3",
   "version": "3.7.12"
  }
 },
 "nbformat": 4,
 "nbformat_minor": 5
}
