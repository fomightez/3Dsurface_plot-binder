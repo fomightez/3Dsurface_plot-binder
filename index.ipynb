{
 "cells": [
  {
   "cell_type": "markdown",
   "metadata": {},
   "source": [
    "# 3D surface plots in Python demonstration notebooks\n",
    "\n",
    "My collection demonstrating useful 3D surface plots, associated visualizations, and interfaces for adjusting the surface plots implemented in Python/Jupyter.  \n",
    "\n",
    "\n",
    "-----\n",
    "\n",
    "Select a notebook from the list below:\n",
    "\n",
    "\n",
    "### Available Demonstration Notebooks\n",
    "\n",
    "- [3D surface plots via Plotnine](Plotnine3d-surface-plots.ipynb)\n",
    "- [3D surface plots via k3d](k3d_surface_examples.ipynb)\n",
    "\n",
    "### Coming soon / available at another link\n",
    "\n",
    "- ???????\n",
    "\n",
    "    There is a related notebook available from ????\n",
    "    \n",
    "----\n",
    "    \n",
    "----    \n"
   ]
  },
  {
   "cell_type": "markdown",
   "metadata": {},
   "source": [
    "#### Ideas not yet incorporated\n",
    "\n",
    "This [stackoverflow topic](https://stackoverflow.com/q/72299207/8508004) has a code for a 3D surface that works in JupyterLite with Matplotlib's lightsource.  \n",
    "A reply [there](https://stackoverflow.com/a/72300720/8508004) includes some other tech that needs full, typical|| Python-backed kernel for this not yet demonstrated here.\n"
   ]
  }
 ],
 "metadata": {
  "kernelspec": {
   "display_name": "Python 3 (ipykernel)",
   "language": "python",
   "name": "python3"
  },
  "language_info": {
   "codemirror_mode": {
    "name": "ipython",
    "version": 3
   },
   "file_extension": ".py",
   "mimetype": "text/x-python",
   "name": "python",
   "nbconvert_exporter": "python",
   "pygments_lexer": "ipython3",
   "version": "3.7.12"
  }
 },
 "nbformat": 4,
 "nbformat_minor": 2
}
